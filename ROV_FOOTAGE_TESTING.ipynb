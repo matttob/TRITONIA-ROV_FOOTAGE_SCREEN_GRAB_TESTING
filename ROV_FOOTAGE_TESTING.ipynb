{
 "cells": [
  {
   "cell_type": "code",
   "execution_count": 99,
   "source": [
    "# This script aims to grab frames from video ROV video footage and create jpegs with exif information added\n",
    "\n",
    "\n",
    "# import required packages\n",
    "import cv2\n",
    "from matplotlib import pyplot as plt\n",
    "from IPython.display import display\n",
    "from PIL import Image\n",
    "from platform import python_version\n",
    "import io\n",
    "import piexif\n",
    "\n",
    "import pytesseract\n",
    "# Mention the installed location of Tesseract-OCR in your system\n",
    "pytesseract.pytesseract.tesseract_cmd = '/usr/local/bin/tesseract'\n",
    "\n",
    "import math\n",
    "import csv\n",
    "import numpy as np\n",
    "from csv import DictWriter\n",
    "import re\n",
    "\n",
    "# Read the video from specified path this could clearly be changed to a file open box\n",
    "cap = cv2.VideoCapture('/Users/sa01mt/Dropbox/TRITONIA/SAMPLE_ROV_FOOTAGE/FUWL_FISH_SURVEY_180307_194840_515.asf')  \n",
    "length = int(cap.get(cv2.CAP_PROP_FRAME_COUNT))\n",
    " \n",
    "\n",
    "# Loop through specified frames currently I like being able to specify specific start and end points as well as image grab frequency\n",
    "#but this could definitelu to be changed to be realitve to the timing of the footage and frame rate of footage to make more user friendly\n",
    "for i in range(2500, 2510, 1):\n",
    "    \n",
    "    # choose specified frame\n",
    "    cap.set(cv2.CAP_PROP_POS_FRAMES,i)\n",
    "    # read specified frame\n",
    "    ret, frame = cap.read()\n",
    "    frame = cv2.cvtColor(frame, cv2.COLOR_BGR2GRAY)\n",
    "    # test for focus and reject if image is blurry \n",
    "    #taken from https://www.analyticsvidhya.com/blog/2020/09/how-to-perform-blur-detection-using-opencv-in-python/\n",
    "    # First crop banner text from image as otherwise this can be included in the blurr detection process and make the image appear in focus. These banners will need to be removed for agisoft proccesing anyhow\n",
    "    #set pixel value of top of cropped image\n",
    "    vert_crop_start = 80\n",
    "    #set pixel value of bottom of cropped image\n",
    "    vert_crop_end = frame.shape[0]-160\n",
    "    # Crop frame\n",
    "    # crop_frame = frame[vert_crop_start:vert_crop_end, 1:frame.shape[1]]\n",
    "    # plt.imshow(frame)\n",
    "    # plt.title('Orignal')\n",
    "    # plt.show()\n",
    "    # plt.imshow(crop_frame)\n",
    "    # plt.title('Cropped')\n",
    "    # plt.show()\n",
    "\n",
    "    #apply laplace filter  and compute the variance\n",
    "    fm = cv2.Laplacian(frame,cv2.CV_64F).var()\n",
    "    # define the blurr detection threshold \n",
    "    blurr_threshold=0\n",
    "\n",
    "    if fm > blurr_threshold:\n",
    "        \n",
    "        ## add value of variance of laplacian filter to frame\n",
    "        # cv2.putText(crop_frame, \"{}: {:.2f}\".format('Laplacian Filter Variance',fm), (10, 30),\n",
    "        #     cv2.FONT_HERSHEY_SIMPLEX, 0.8, (0, 0, 255), 3)       \n",
    "        ## write specified frame to jpg image\n",
    "        cv2.imwrite('images/Test_Frame'+str(i)+'.jpg',crop_frame)\n",
    "        \n",
    "        #display image for testing purposes\n",
    "        # display(Image.open('images/Test_Frame'+str(i)+'.jpg'))\n",
    "\n",
    "        ## read banner text using OCR \n",
    "        \n",
    "        text_frame_E =  frame[1:30, 1:math.floor(frame.shape[1]/2)]\n",
    "        # write jpeg for testing    \n",
    "    #     cv2.imwrite('images/text_frame_E'+str(i)+'.jpg',text_frame_E)\n",
    "    #    #display image for testing purposes\n",
    "    #     display(Image.open('images/text_frame_E'+str(i)+'.jpg'))\n",
    "        # convert to greayscale \n",
    "        # remove backround values\n",
    "        # # create the histogram\n",
    "        # histogram, bin_edges = np.histogram(text_frame_E, bins=256, range=(0, 256))\n",
    "        # # # configure and draw the histogram figure\n",
    "        # plt.figure()\n",
    "        # plt.title(\"Grayscale Histogram\")\n",
    "        # plt.xlabel(\"grayscale value\")\n",
    "        # plt.ylabel(\"pixels\")\n",
    "        # plt.xlim([0.0, 256])  # <- named arguments do not work here\n",
    "        # plt.plot(bin_edges[0:-1], histogram)  # <- or here\n",
    "        # plt.show()\n",
    "        # create mask with indices of values that are greater than a ceratin threshold that will subsequently be removed\n",
    "        text_backround_threshold = 200\n",
    "        mask_E = text_frame_E > text_backround_threshold\n",
    "        # create new image matrix same size as orignal image but filled with zeros\n",
    "        sel_E = np.zeros_like(text_frame_E)\n",
    "        # populate new matirx with pixel intensity values above the threshold    \n",
    "        sel_E[mask_E] = text_frame_E[mask_E]\n",
    "        # invert image for better text detection\n",
    "        text_sel_E=~sel_E    \n",
    "        # write jpeg for testing    \n",
    "        #cv2.imwrite('images/East_Frame'+str(i)+'.jpg',text_sel_E)\n",
    "        #display image for testing purposes\n",
    "        #display(Image.open('images/East_Frame'+str(i)+'.jpg'))\n",
    "        text_E = pytesseract.image_to_string(text_sel_E)\n",
    "        # print('captured text E = ' + text_E)\n",
    "        # deal with the text string and convert to numeric position. In this case we split the text each side  of the decimal place and then select only the numeric characters, then re combine.\n",
    "        text_E_int = text_E.split(\".\")[0]\n",
    "        text_E_int = re.findall(\"\\d+\", text_E_int)[0]\n",
    "        text_E_dec = text_E.split(\".\")[1]\n",
    "        text_E_dec = re.findall(\"\\d+\", text_E_dec)[0]\n",
    "        east_pos = text_E_int + '.' + text_E_dec \n",
    "        # print(str(east_pos))\n",
    "\n",
    "        text_frame_N =  frame[1:30, math.floor(frame.shape[1]/2):frame.shape[1]]\n",
    "        # create mask with indices of values that are greater than a ceratin threshold that will subsequently be removed\n",
    "        mask_N = text_frame_N > text_backround_threshold\n",
    "        # create new image matrix same size as orignal image but filled with zeros\n",
    "        sel_N = np.zeros_like(text_frame_N)\n",
    "        # populate new matirx with pixel intensity values above the threshold    \n",
    "        sel_N[mask_N] = text_frame_N[mask_N]\n",
    "        text_sel_N=~sel_N\n",
    "        text_N = pytesseract.image_to_string(text_sel_N)\n",
    "        # print('captured text  text_frame_depth_inttext_frame_depth_inttext_frame_depth_inttext_frame_depth_inttext_frame_depth_inttext_frame_depth_int = ' + text_N)\n",
    "        # deal with the text string and convert to numeric position. In this case we split the text each side  of the decimal place and then select only the numeric characters, then re combine.\n",
    "        text_N_int = text_N.split(\".\")[0]\n",
    "        text_N_int = re.findall(\"\\d+\", text_N_int)[0]\n",
    "        text_N_dec = text_N.split(\".\")[1]\n",
    "        text_N_dec = re.findall(\"\\d+\", text_N_dec)[0]\n",
    "        north_pos = text_N_int + '.' + text_N_dec \n",
    "        # print(str(north_pos))\n",
    "\n",
    "        # # create rectangle for testing\n",
    "        # frame_depth_test=frame\n",
    "        # cv2.rectangle(frame_depth_test, (570 ,475), (710,500), (265,0,0), 5)\n",
    "        # # write jpeg for testing    \n",
    "        # cv2.imwrite('images/Depth_Frame'+str(i)+'.jpg',frame_depth_test)\n",
    "        # # display image for testing purposes\n",
    "        # display(Image.open('images/Depth_Frame'+str(i)+'.jpg'))\n",
    "        \n",
    "        text_frame_depth_int = frame[450:510,598:660]\n",
    "        # create mask with indices of values that are greater than a ceratin threshold that will subsequently be removed\n",
    "        mask_depth_int = text_frame_depth_int > 100\n",
    "        # create new image matrix same size as orignal image but filled with zeros\n",
    "        sel_depth_int = np.zeros_like(text_frame_depth_int)\n",
    "        # populate new matirx with pixel intensity values above the threshold    \n",
    "        sel_depth_int[mask_depth_int] = text_frame_depth_int[mask_depth_int]\n",
    "        text_sel_depth_int=~sel_depth_int\n",
    "        # # write jpeg for testing    \n",
    "        cv2.imwrite('images/Depth_int_Frame'+str(i)+'.jpg',text_sel_depth_int)\n",
    "        #display image for testing purposes\n",
    "        display(Image.open('images/Depth_int_Frame'+str(i)+'.jpg'))\n",
    "        # read text\n",
    "        text_depth_int = pytesseract.image_to_string(text_sel_depth_int)\n",
    "        # deal with the text string and convert to numeric position. \n",
    "        text_depth_int = re.findall(\"\\d+\", text_depth_int)[0]\n",
    "\n",
    "        text_frame_depth_dec = frame[450:510,655:730]\n",
    "        # create mask with indices of values that are greater than a ceratin threshold that will subsequently be removed\n",
    "        mask_depth_dec = text_frame_depth_dec > 100\n",
    "        # create new image matrix same size as orignal image but filled with zeros\n",
    "        sel_depth_dec = np.zeros_like(text_frame_depth_dec)\n",
    "        # populate new matirx with pixel intensity values above the threshold    \n",
    "        sel_depth_dec[mask_depth_dec] = text_frame_depth_dec[mask_depth_dec]\n",
    "        text_sel_depth_dec=~sel_depth_dec\n",
    "        # # write jpeg for testing    \n",
    "        cv2.imwrite('images/Depth_dec_Frame'+str(i)+'.jpg',text_sel_depth_dec)\n",
    "        #display image for testing purposes\n",
    "        display(Image.open('images/Depth_dec_Frame'+str(i)+'.jpg'))\n",
    "        # read text\n",
    "        text_depth_dec = pytesseract.image_to_string(text_sel_depth_dec)\n",
    "        print(len(text_depth_dec))\n",
    "        # deal with the text string and convert to numeric position. \n",
    "        # text_depth_dec = re.findall(\"\\d+\", text_depth_dec)[0]\n",
    "\n",
    "\n",
    "        print('captured text depth = ' + text_depth_int + \".\" + text_depth_dec)\n",
    "        \n",
    "\n",
    "       \n",
    "\n",
    "\n",
    "        # write position values in CSV file\n",
    "        # write the header\n",
    "        headers = ['East Position', 'North Position']\n",
    "        position_data_dict = {'East Position' :east_pos,'North Position' : north_pos}\n",
    "        # create CSV file for recording banner data\n",
    "        with open('banner_information.csv', mode='a')  as f_csv:\n",
    "            dictwriter_object = DictWriter(f_csv, fieldnames=headers)\n",
    "            dictwriter_object.writerow(position_data_dict)\n",
    "            # Close the file object\n",
    "            f_csv.close()\n",
    "        \n",
    "       \n",
    "# close video file\n",
    "cap.release()\n",
    "cv2.destroyAllWindows()\n"
   ],
   "outputs": [
    {
     "output_type": "display_data",
     "data": {
      "text/plain": [
       "<PIL.JpegImagePlugin.JpegImageFile image mode=L size=62x60 at 0x125B71D00>"
      ],
      "image/png": "[encoded data removed]"
     },
     "metadata": {}
    },
    {
     "output_type": "display_data",
     "data": {
      "text/plain": [
       "<PIL.JpegImagePlugin.JpegImageFile image mode=L size=65x60 at 0x125B71EE0>"
      ],
      "image/png": "[encoded data removed]"
     },
     "metadata": {}
    },
    {
     "output_type": "stream",
     "name": "stdout",
     "text": [
      "4\n",
      "captured text depth = 0056.8M\n",
      "\f\n"
     ]
    },
    {
     "output_type": "display_data",
     "data": {
      "text/plain": [
       "<PIL.JpegImagePlugin.JpegImageFile image mode=L size=62x60 at 0x125B71EE0>"
      ],
      "image/png": "[encoded data removed]"
     },
     "metadata": {}
    },
    {
     "output_type": "display_data",
     "data": {
      "text/plain": [
       "<PIL.JpegImagePlugin.JpegImageFile image mode=L size=65x60 at 0x125B713D0>"
      ],
      "image/png": "[encoded data removed]"
     },
     "metadata": {}
    },
    {
     "output_type": "stream",
     "name": "stdout",
     "text": [
      "1\n",
      "captured text depth = 0056.\f\n"
     ]
    },
    {
     "output_type": "display_data",
     "data": {
      "text/plain": [
       "<PIL.JpegImagePlugin.JpegImageFile image mode=L size=62x60 at 0x125B71CD0>"
      ],
      "image/png": "[encoded data removed]"
     },
     "metadata": {}
    },
    {
     "output_type": "display_data",
     "data": {
      "text/plain": [
       "<PIL.JpegImagePlugin.JpegImageFile image mode=L size=65x60 at 0x125B71400>"
      ],
      "image/png": "[encoded data removed]"
     },
     "metadata": {}
    },
    {
     "output_type": "stream",
     "name": "stdout",
     "text": [
      "4\n",
      "captured text depth = 056.iM\n",
      "\f\n"
     ]
    },
    {
     "output_type": "display_data",
     "data": {
      "text/plain": [
       "<PIL.JpegImagePlugin.JpegImageFile image mode=L size=62x60 at 0x125B713D0>"
      ],
      "image/png": "[encoded data removed]"
     },
     "metadata": {}
    },
    {
     "output_type": "display_data",
     "data": {
      "text/plain": [
       "<PIL.JpegImagePlugin.JpegImageFile image mode=L size=65x60 at 0x125B71D00>"
      ],
      "image/png": "[encoded data removed]"
     },
     "metadata": {}
    },
    {
     "output_type": "stream",
     "name": "stdout",
     "text": [
      "4\n",
      "captured text depth = 056.fh\n",
      "\f\n"
     ]
    },
    {
     "output_type": "display_data",
     "data": {
      "text/plain": [
       "<PIL.JpegImagePlugin.JpegImageFile image mode=L size=62x60 at 0x125B71CD0>"
      ],
      "image/png": "[encoded data removed]"
     },
     "metadata": {}
    },
    {
     "output_type": "display_data",
     "data": {
      "text/plain": [
       "<PIL.JpegImagePlugin.JpegImageFile image mode=L size=65x60 at 0x125B719A0>"
      ],
      "image/png": "[encoded data removed]"
     },
     "metadata": {}
    },
    {
     "output_type": "stream",
     "name": "stdout",
     "text": [
      "4\n",
      "captured text depth = 0056.7h\n",
      "\f\n"
     ]
    },
    {
     "output_type": "display_data",
     "data": {
      "text/plain": [
       "<PIL.JpegImagePlugin.JpegImageFile image mode=L size=62x60 at 0x125B71D00>"
      ],
      "image/png": "[encoded data removed]"
     },
     "metadata": {}
    },
    {
     "output_type": "display_data",
     "data": {
      "text/plain": [
       "<PIL.JpegImagePlugin.JpegImageFile image mode=L size=65x60 at 0x125B71EE0>"
      ],
      "image/png": "[encoded data removed]"
     },
     "metadata": {}
    },
    {
     "output_type": "stream",
     "name": "stdout",
     "text": [
      "1\n",
      "captured text depth = 0056.\f\n"
     ]
    },
    {
     "output_type": "display_data",
     "data": {
      "text/plain": [
       "<PIL.JpegImagePlugin.JpegImageFile image mode=L size=62x60 at 0x125B71CD0>"
      ],
      "image/png": "[encoded data removed]"
     },
     "metadata": {}
    },
    {
     "output_type": "display_data",
     "data": {
      "text/plain": [
       "<PIL.JpegImagePlugin.JpegImageFile image mode=L size=65x60 at 0x125B71400>"
      ],
      "image/png": "[encoded data removed]"
     },
     "metadata": {}
    },
    {
     "output_type": "stream",
     "name": "stdout",
     "text": [
      "1\n",
      "captured text depth = 0056.\f\n"
     ]
    },
    {
     "output_type": "display_data",
     "data": {
      "text/plain": [
       "<PIL.JpegImagePlugin.JpegImageFile image mode=L size=62x60 at 0x125B71EE0>"
      ],
      "image/png": "[encoded data removed]"
     },
     "metadata": {}
    },
    {
     "output_type": "display_data",
     "data": {
      "text/plain": [
       "<PIL.JpegImagePlugin.JpegImageFile image mode=L size=65x60 at 0x125B713D0>"
      ],
      "image/png": "[encoded data removed]"
     },
     "metadata": {}
    },
    {
     "output_type": "stream",
     "name": "stdout",
     "text": [
      "1\n",
      "captured text depth = 0056.\f\n"
     ]
    },
    {
     "output_type": "display_data",
     "data": {
      "text/plain": [
       "<PIL.JpegImagePlugin.JpegImageFile image mode=L size=62x60 at 0x125B71CD0>"
      ],
      "image/png": "[encoded data removed]"
     },
     "metadata": {}
    },
    {
     "output_type": "display_data",
     "data": {
      "text/plain": [
       "<PIL.JpegImagePlugin.JpegImageFile image mode=L size=65x60 at 0x125B719A0>"
      ],
      "image/png": "[encoded data removed]"
     },
     "metadata": {}
    },
    {
     "output_type": "stream",
     "name": "stdout",
     "text": [
      "4\n",
      "captured text depth = 0056.fh\n",
      "\f\n"
     ]
    },
    {
     "output_type": "display_data",
     "data": {
      "text/plain": [
       "<PIL.JpegImagePlugin.JpegImageFile image mode=L size=62x60 at 0x125B713D0>"
      ],
      "image/png": "[encoded data removed]"
     },
     "metadata": {}
    },
    {
     "output_type": "display_data",
     "data": {
      "text/plain": [
       "<PIL.JpegImagePlugin.JpegImageFile image mode=L size=65x60 at 0x125B71D00>"
      ],
      "image/png": "[encoded data removed]"
     },
     "metadata": {}
    },
    {
     "output_type": "stream",
     "name": "stdout",
     "text": [
      "4\n",
      "captured text depth = 0056.fh\n",
      "\f\n"
     ]
    }
   ],
   "metadata": {}
  },
  {
   "cell_type": "code",
   "execution_count": 4,
   "source": [
    " # add exif information currenlty listed are the fields that agisoft metashape is expecting\n",
    "\n",
    "      \n",
    "# Size(pix)\n",
    "# Date and time\n",
    "# Camera make\n",
    "# Camera model\n",
    "# Focal length\n",
    "# F-stop\n",
    "# Shutter speed\n",
    "# 35mm focal equivalent\n",
    "# Sensor x res\n",
    "# Sensor Y res\n",
    "# Orientation\n",
    "\n",
    "\n",
    "\n",
    "\n",
    "# opens an file buffer\n",
    "o = io.BytesIO()\n",
    "# load image\n",
    "thumb_im = Image.open('test2'+str(i)+'.jpg')\n",
    "#create smaller resolution thumbnail\n",
    "#thumb_im.thumbnail((50, 50), Image.ANTIALIAS)\n",
    "# save this thumnail\n",
    "#thumb_im.save(o, \"jpeg\")\n",
    "# read in raw byte informatiom\n",
    "#thumbnail = o.getvalue()\n",
    "\n",
    "# create exif information tags\n",
    "zeroth_ifd = {piexif.ImageIFD.Make: u\"Canon\",\n",
    "              piexif.ImageIFD.XResolution: (96, 1),\n",
    "              piexif.ImageIFD.YResolution: (96, 1),\n",
    "              piexif.ImageIFD.Software: u\"piexif\"\n",
    "              }\n",
    "exif_ifd = {piexif.ExifIFD.DateTimeOriginal: u\"2099:09:29 10:10:10\",\n",
    "            piexif.ExifIFD.LensMake: u\"LensMake\",\n",
    "            piexif.ExifIFD.Sharpness: 65535,\n",
    "            piexif.ExifIFD.LensSpecification: ((1, 1), (1, 1), (1, 1), (1, 1)),\n",
    "            }\n",
    "gps_ifd = {piexif.GPSIFD.GPSVersionID: (2, 0, 0, 0),\n",
    "           piexif.GPSIFD.GPSAltitudeRef: 1,\n",
    "           piexif.GPSIFD.GPSDateStamp: u\"1999:99:99 99:99:99\",\n",
    "           }\n",
    "first_ifd = {piexif.ImageIFD.Make: u\"Canon\",\n",
    "             piexif.ImageIFD.XResolution: (40, 1),\n",
    "             piexif.ImageIFD.YResolution: (40, 1),\n",
    "             piexif.ImageIFD.Software: u\"piexif\"\n",
    "             }\n",
    "# create dictionary relating each of the exif entires with thier names \n",
    "exif_dict = {\"0th\":zeroth_ifd, \"Exif\":exif_ifd, \"GPS\":gps_ifd, \"1st\":first_ifd, \"thumb_im\":thumb_im}\n",
    "exif_bytes = piexif.dump(exif_dict)\n",
    "\n",
    "\n",
    "im = Image.open('test2'+str(i)+'.jpg')\n",
    "#im.thumbnail((100, 100), Image.ANTIALIAS)\n",
    "im.save(\"out.jpg\", exif=exif_bytes)"
   ],
   "outputs": [
    {
     "output_type": "error",
     "ename": "FileNotFoundError",
     "evalue": "[Errno 2] No such file or directory: 'test214000.jpg'",
     "traceback": [
      "\u001b[0;31m---------------------------------------------------------------------------\u001b[0m",
      "\u001b[0;31mFileNotFoundError\u001b[0m                         Traceback (most recent call last)",
      "\u001b[0;32m<ipython-input-4-95de9e2d09f3>\u001b[0m in \u001b[0;36m<module>\u001b[0;34m\u001b[0m\n\u001b[1;32m     20\u001b[0m \u001b[0mo\u001b[0m \u001b[0;34m=\u001b[0m \u001b[0mio\u001b[0m\u001b[0;34m.\u001b[0m\u001b[0mBytesIO\u001b[0m\u001b[0;34m(\u001b[0m\u001b[0;34m)\u001b[0m\u001b[0;34m\u001b[0m\u001b[0;34m\u001b[0m\u001b[0m\n\u001b[1;32m     21\u001b[0m \u001b[0;31m# load image\u001b[0m\u001b[0;34m\u001b[0m\u001b[0;34m\u001b[0m\u001b[0;34m\u001b[0m\u001b[0m\n\u001b[0;32m---> 22\u001b[0;31m \u001b[0mthumb_im\u001b[0m \u001b[0;34m=\u001b[0m \u001b[0mImage\u001b[0m\u001b[0;34m.\u001b[0m\u001b[0mopen\u001b[0m\u001b[0;34m(\u001b[0m\u001b[0;34m'test2'\u001b[0m\u001b[0;34m+\u001b[0m\u001b[0mstr\u001b[0m\u001b[0;34m(\u001b[0m\u001b[0mi\u001b[0m\u001b[0;34m)\u001b[0m\u001b[0;34m+\u001b[0m\u001b[0;34m'.jpg'\u001b[0m\u001b[0;34m)\u001b[0m\u001b[0;34m\u001b[0m\u001b[0;34m\u001b[0m\u001b[0m\n\u001b[0m\u001b[1;32m     23\u001b[0m \u001b[0;31m#create smaller resolution thumbnail\u001b[0m\u001b[0;34m\u001b[0m\u001b[0;34m\u001b[0m\u001b[0;34m\u001b[0m\u001b[0m\n\u001b[1;32m     24\u001b[0m \u001b[0;31m#thumb_im.thumbnail((50, 50), Image.ANTIALIAS)\u001b[0m\u001b[0;34m\u001b[0m\u001b[0;34m\u001b[0m\u001b[0;34m\u001b[0m\u001b[0m\n",
      "\u001b[0;32m/opt/anaconda3/envs/base_clone_23_09_21/lib/python3.8/site-packages/PIL/Image.py\u001b[0m in \u001b[0;36mopen\u001b[0;34m(fp, mode, formats)\u001b[0m\n\u001b[1;32m   2910\u001b[0m \u001b[0;34m\u001b[0m\u001b[0m\n\u001b[1;32m   2911\u001b[0m     \u001b[0;32mif\u001b[0m \u001b[0mfilename\u001b[0m\u001b[0;34m:\u001b[0m\u001b[0;34m\u001b[0m\u001b[0;34m\u001b[0m\u001b[0m\n\u001b[0;32m-> 2912\u001b[0;31m         \u001b[0mfp\u001b[0m \u001b[0;34m=\u001b[0m \u001b[0mbuiltins\u001b[0m\u001b[0;34m.\u001b[0m\u001b[0mopen\u001b[0m\u001b[0;34m(\u001b[0m\u001b[0mfilename\u001b[0m\u001b[0;34m,\u001b[0m \u001b[0;34m\"rb\"\u001b[0m\u001b[0;34m)\u001b[0m\u001b[0;34m\u001b[0m\u001b[0;34m\u001b[0m\u001b[0m\n\u001b[0m\u001b[1;32m   2913\u001b[0m         \u001b[0mexclusive_fp\u001b[0m \u001b[0;34m=\u001b[0m \u001b[0;32mTrue\u001b[0m\u001b[0;34m\u001b[0m\u001b[0;34m\u001b[0m\u001b[0m\n\u001b[1;32m   2914\u001b[0m \u001b[0;34m\u001b[0m\u001b[0m\n",
      "\u001b[0;31mFileNotFoundError\u001b[0m: [Errno 2] No such file or directory: 'test214000.jpg'"
     ]
    }
   ],
   "metadata": {}
  },
  {
   "cell_type": "code",
   "execution_count": null,
   "source": [
    "# example of how to increase image contrast taken from  https://discuss.bluerobotics.com/t/action-packed-weekend-at-lake-coeur-d-alene/10236/4\n",
    "\n",
    "\n",
    "# def process(frame):\n",
    "#     result = np.empty_like(frame)\n",
    "#     # normalise each colour channel\n",
    "#     for channel in range(3):\n",
    "#         result[:,:,channel] = cv2.normalize(frame[:,:,channel], None, 0, 255, cv2.NORM_MINMAX)\n",
    "#     # clip off the bottom 10% of values to increase contrast\n",
    "#     return cv2.convertScaleAbs(result, None, 1.1, -25)"
   ],
   "outputs": [],
   "metadata": {}
  },
  {
   "cell_type": "code",
   "execution_count": 13,
   "source": [
    "#  # strip text from image\n",
    "    \n",
    "\n",
    "\n",
    "\n",
    "\n",
    "# # Read image from which text needs to be extracted\n",
    "img = cv2.imread('test2'+str(i)+'.jpg')\n",
    "\n",
    "# # Preprocessing the image starts\n",
    "\n",
    "# # Convert the image to gray scale\n",
    "gray = cv2.cvtColor(img, cv2.COLOR_BGR2GRAY)\n",
    "\n",
    "# # Performing OTSU threshold\n",
    "ret, thresh1 = cv2.threshold(gray, 0, 255, cv2.THRESH_OTSU | cv2.THRESH_BINARY_INV)\n",
    "\n",
    "# # Specify structure shape and kernel size.\n",
    "# # Kernel size increases or decreases the area\n",
    "# # of the rectangle to be detected.\n",
    "# # A smaller value like (10, 10) will detect\n",
    "# # each word instead of a sentence.\n",
    "rect_kernel = cv2.getStructuringElement(cv2.MORPH_RECT, (18, 18))\n",
    "\n",
    "# # Appplying dilation on the threshold image\n",
    "dilation = cv2.dilate(thresh1, rect_kernel, iterations = 1)\n",
    "\n",
    "# # Finding contours\n",
    "contours, hierarchy = cv2.findContours(dilation, cv2.RETR_EXTERNAL,\n",
    " \t\t\t\t\t\t\t\t\t\t\t\tcv2.CHAIN_APPROX_NONE)\n",
    "\n",
    "# # Creating a copy of image\n",
    "im2 = img.copy()\n",
    "\n",
    "# # A text file is created and flushed\n",
    "\n",
    "file = open (\"recognized.txt\", \"w+\")\n",
    "file.write(\"\")\n",
    "file.close()\n",
    "file = open(\"recognized.txt\", \"a\")\n",
    "text = pytesseract.image_to_string(im2)\n",
    "file.write(text)\n",
    "file.write(\"\\n\")\n",
    "file.close\n",
    "\n",
    "\n",
    "# # # Looping through the identified contours\n",
    "# # # Then rectangular part is cropped and passed on\n",
    "# # # to pytesseract for extracting text from it\n",
    "# # # Extracted text is then written into the text file\n",
    "# for cnt in contours: \n",
    "#  \tx, y, w, h = cv2.boundingRect(cnt)\n",
    "\t\n",
    "# # \t# Drawing a rectangle on copied image\n",
    "#  \trect = cv2.rectangle(im2, (x, y), (x + w, y + h), (0, 255, 0), 2)\n",
    "\t\n",
    "# # \t# Cropping the text block for giving input to OCR\n",
    "#  \tcropped = im2[y:y + h, x:x + w]\n",
    "# \tplt.imshow(cropped)\n",
    "# \tplt.title('Cropped')\n",
    "# \tplt.show() \n",
    "# # \t# Open the file in append mode\n",
    "#  \tfile = open(\"recognized.txt\", \"a\")\n",
    "\t\n",
    "# # \t# Apply OCR on the cropped image\n",
    "#  \ttext = pytesseract.image_to_string(cropped)\n",
    "\t\n",
    "# # \t# Appending the text into file\n",
    "#  \tfile.write(text)\n",
    "#  \tfile.write(\"\\n\")\n",
    "\t\n",
    "# # \t# Close the file\n",
    "#  \tfile.close\n"
   ],
   "outputs": [
    {
     "output_type": "execute_result",
     "data": {
      "text/plain": [
       "<function TextIOWrapper.close()>"
      ]
     },
     "metadata": {},
     "execution_count": 13
    }
   ],
   "metadata": {}
  },
  {
   "cell_type": "code",
   "execution_count": null,
   "source": [],
   "outputs": [],
   "metadata": {}
  },
  {
   "cell_type": "code",
   "execution_count": null,
   "source": [],
   "outputs": [],
   "metadata": {}
  },
  {
   "cell_type": "code",
   "execution_count": null,
   "source": [],
   "outputs": [],
   "metadata": {}
  }
 ],
 "metadata": {
  "interpreter": {
   "hash": "8f3eeb146ab944f823de6564a5b634e6b3a34ddba7872b08046e9322cde574c6"
  },
  "kernelspec": {
   "name": "python3",
   "display_name": "Python 3.8.5 64-bit ('base_clone_23_09_21': conda)"
  },
  "language_info": {
   "codemirror_mode": {
    "name": "ipython",
    "version": 3
   },
   "file_extension": ".py",
   "mimetype": "text/x-python",
   "name": "python",
   "nbconvert_exporter": "python",
   "pygments_lexer": "ipython3",
   "version": "3.8.5"
  }
 },
 "nbformat": 4,
 "nbformat_minor": 4
}